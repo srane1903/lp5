{
  "cells": [
    {
      "cell_type": "code",
      "execution_count": null,
      "id": "2169f97e",
      "metadata": {
        "colab": {
          "base_uri": "https://localhost:8080/"
        },
        "id": "2169f97e",
        "outputId": "3c231473-80ad-4f9d-bd3c-758647f7af95"
      },
      "outputs": [
        {
          "ename": "",
          "evalue": "",
          "output_type": "error",
          "traceback": [
            "\u001b[1;31mRunning cells with 'Python 3.10.2' requires the ipykernel package.\n",
            "\u001b[1;31m<a href='command:jupyter.createPythonEnvAndSelectController'>Create a Python Environment</a> with the required packages.\n",
            "\u001b[1;31mOr install 'ipykernel' using the command: '\"c:/Program Files/Python310/python.exe\" -m pip install ipykernel -U --user --force-reinstall'"
          ]
        }
      ],
      "source": [
        "\n",
        "USE_GPU = False\n",
        "\n",
        "if USE_GPU:\n",
        "    import cupy as xp\n",
        "else:\n",
        "    import numpy as xp\n",
        "\n",
        "# User Input\n",
        "N = int(input(\"Enter size of vector/matrix (N): \"))\n",
        "\n",
        "# Input Vectors\n",
        "print(\"Enter elements for Vector A:\")\n",
        "A = xp.array([int(input(f\"A[{i}]: \")) for i in range(N)])\n",
        "print(\"Enter elements for Vector B:\")\n",
        "B = xp.array([int(input(f\"B[{i}]: \")) for i in range(N)])\n",
        "\n",
        "# Vector Addition\n",
        "C = A + B\n",
        "\n",
        "print(\"\\nVector A:\", A)\n",
        "print(\"Vector B:\", B)\n",
        "print(\"Addition (A + B):\", C)\n",
        "\n",
        "# Input Matrices\n",
        "print(\"\\nEnter elements for Matrix D:\")\n",
        "D = xp.zeros((N, N), dtype=int)\n",
        "for i in range(N):\n",
        "    for j in range(N):\n",
        "        D[i, j] = int(input(f\"D[{i}][{j}]: \"))\n",
        "\n",
        "print(\"Enter elements for Matrix E:\")\n",
        "E = xp.zeros((N, N), dtype=int)\n",
        "for i in range(N):\n",
        "    for j in range(N):\n",
        "        E[i, j] = int(input(f\"E[{i}][{j}]: \"))\n",
        "\n",
        "# Matrix Multiplication\n",
        "F = D @ E\n",
        "\n",
        "print(\"\\nMatrix D:\")\n",
        "print(D)\n",
        "\n",
        "print(\"\\nMatrix E:\")\n",
        "print(E)\n",
        "\n",
        "print(\"\\nMultiplication Result (D x E):\")\n",
        "print(F)"
      ]
    },
    {
      "cell_type": "code",
      "execution_count": null,
      "id": "ee946486",
      "metadata": {
        "id": "ee946486"
      },
      "outputs": [],
      "source": [
        "8"
      ]
    }
  ],
  "metadata": {
    "colab": {
      "provenance": []
    },
    "kernelspec": {
      "display_name": "Python 3",
      "language": "python",
      "name": "python3"
    },
    "language_info": {
      "codemirror_mode": {
        "name": "ipython",
        "version": 3
      },
      "file_extension": ".py",
      "mimetype": "text/x-python",
      "name": "python",
      "nbconvert_exporter": "python",
      "pygments_lexer": "ipython3",
      "version": "3.10.2"
    }
  },
  "nbformat": 4,
  "nbformat_minor": 5
}
